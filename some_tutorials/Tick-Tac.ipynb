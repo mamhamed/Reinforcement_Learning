{
 "cells": [
  {
   "cell_type": "code",
   "execution_count": 4,
   "metadata": {
    "collapsed": true
   },
   "outputs": [],
   "source": [
    "import tensorflow as tf\n",
    "import numpy as np"
   ]
  },
  {
   "cell_type": "code",
   "execution_count": 5,
   "metadata": {
    "collapsed": true
   },
   "outputs": [],
   "source": [
    "class TickTac(object):\n",
    "    def __init__(self):\n",
    "        self.board = np.zeros([3,3])"
   ]
  },
  {
   "cell_type": "code",
   "execution_count": null,
   "metadata": {
    "collapsed": true
   },
   "outputs": [],
   "source": [
    "def TickTacAgent(object):\n",
    "    def __init__(self):\n",
    "        self.board = tf.placeholder([3,3], dtype=tf.int8)\n",
    "        self.W = tf.Variable(tf.random_uniform([3,3]), dtype=tf.float32)\n",
    "        self.b = tf.Variable(tf.zeros([3,3]), dtype=tf.float32)\n",
    "        \n",
    "        self.logits = tf.matmul(self.W, self.board) + b\n",
    "        \n",
    "        self.action = tf.nn.softmax(logits=self.logits)\n",
    "        \n",
    "        self.loss = tf.nn.softmax_cross_entropy_with_logits(logits=logits)\n",
    "        \n",
    "        self.optimizer = tf.train.GradientDescentOptimizer(lr=0.01)\n",
    "        self.update = optimizer.minimize(self.loss)\n",
    "    "
   ]
  },
  {
   "cell_type": "code",
   "execution_count": 8,
   "metadata": {},
   "outputs": [
    {
     "data": {
      "text/plain": [
       "<tf.Tensor 'random_uniform:0' shape=(3, 3) dtype=float32>"
      ]
     },
     "execution_count": 8,
     "metadata": {},
     "output_type": "execute_result"
    }
   ],
   "source": [
    "num_episodes = 2000\n",
    "\n"
   ]
  }
 ],
 "metadata": {
  "kernelspec": {
   "display_name": "Python 2",
   "language": "python",
   "name": "python2"
  },
  "language_info": {
   "codemirror_mode": {
    "name": "ipython",
    "version": 2
   },
   "file_extension": ".py",
   "mimetype": "text/x-python",
   "name": "python",
   "nbconvert_exporter": "python",
   "pygments_lexer": "ipython2",
   "version": "2.7.10"
  }
 },
 "nbformat": 4,
 "nbformat_minor": 2
}
