{
 "cells": [
  {
   "cell_type": "code",
   "execution_count": 54,
   "metadata": {
    "collapsed": true
   },
   "outputs": [],
   "source": [
    "import numpy as np\n",
    "import tensorflow as tf\n",
    "import tensorflow.contrib.slim as slim"
   ]
  },
  {
   "cell_type": "code",
   "execution_count": 113,
   "metadata": {
    "collapsed": true
   },
   "outputs": [],
   "source": [
    "class contextual_bandit():\n",
    "    def __init__(self):\n",
    "        self.state = 0\n",
    "        #List out our bandits. Currently arms 4, 2, and 1 (respectively) are the most optimal.\n",
    "        self.bandits = np.array([[0.2,0,-0.0,-5],[0.1,-5,1,0.25],[-5,5,5,5]])\n",
    "        self.num_bandits = self.bandits.shape[0]\n",
    "        self.num_actions = self.bandits.shape[1]\n",
    "        \n",
    "    def getBandit(self):\n",
    "        self.state = np.random.randint(0,len(self.bandits)) #Returns a random state for each episode.\n",
    "        return self.state\n",
    "        \n",
    "    def pullArm(self,action):\n",
    "        #Get a random number.\n",
    "        bandit = self.bandits[self.state,action]\n",
    "        result = np.random.randn(1)\n",
    "        if result > bandit:\n",
    "            #return a positive reward.\n",
    "            return 1\n",
    "        else:\n",
    "            #return a negative reward.\n",
    "            return -1"
   ]
  },
  {
   "cell_type": "code",
   "execution_count": 104,
   "metadata": {
    "collapsed": true
   },
   "outputs": [],
   "source": [
    "class agent():\n",
    "    def __init__(self, lr, s_size, a_size):\n",
    "        self.state_in = tf.placeholder(shape=[1], dtype=tf.int32)\n",
    "        self.state_in_OH = slim.one_hot_encoding(self.state_in, s_size)\n",
    "        \n",
    "        output=slim.fully_connected(self.state_in_OH, a_size, biases_initializer= None,\n",
    "                            activation_fn=tf.nn.sigmoid,\n",
    "                             weights_initializer=tf.ones_initializer())\n",
    "\n",
    "        self.output = tf.reshape(output, [-1])\n",
    "        self.chosen_action = tf.argmax(self.output, 0)\n",
    "        \n",
    "        \n",
    "        self.reward_holder = tf.placeholder(dtype=tf.float32, shape=[1], name='reward')\n",
    "        self.action_holder = tf.placeholder(dtype=tf.int32, shape=[1], name='action')\n",
    "        \n",
    "        self.responsible_weight = tf.slice(self.output, self.action_holder, [1])\n",
    "        \n",
    "        self.loss = -(tf.log(self.responsible_weight)*self.reward_holder)\n",
    "        optimizer = tf.train.GradientDescentOptimizer(learning_rate=lr)\n",
    "        self.update = optimizer.minimize(self.loss)"
   ]
  },
  {
   "cell_type": "code",
   "execution_count": 105,
   "metadata": {},
   "outputs": [],
   "source": [
    "tf.reset_default_graph()\n",
    "\n",
    "cBandits = contextual_bandit()\n",
    "\n",
    "ag = agent(lr=0.001, s_size=cBandits.num_bandits, a_size=cBandits.num_actions)\n",
    "\n",
    "\n",
    "total_rewards = np.zeros([cBandits.num_bandits, cBandits.num_actions])\n",
    "\n",
    "init = tf.global_variables_initializer()\n",
    "        \n",
    "e = 0.1 #Set the chance of taking a random action.\n",
    "\n",
    "    "
   ]
  },
  {
   "cell_type": "code",
   "execution_count": 114,
   "metadata": {},
   "outputs": [],
   "source": [
    "num_episodes = 2000\n",
    "\n",
    "with tf.Session() as sess:\n",
    "    sess.run(init)\n",
    "    j = 0\n",
    "    rAll = 0\n",
    "    while j <= 2000:\n",
    "        s = cBandits.getBandit()\n",
    "        j += 1\n",
    "        if np.random.rand(1) < e:\n",
    "            action = np.random.randint(cBandits.num_actions)\n",
    "        else:\n",
    "            action = sess.run(ag.chosen_action, feed_dict={ag.state_in:[s]})\n",
    "        \n",
    "        r = cBandits.pullArm(action)\n",
    "        \n",
    "        update = sess.run([ag.update], \n",
    "                          feed_dict={ag.reward_holder:[r], \n",
    "                                     ag.state_in:[s], \n",
    "                                     ag.action_holder:[action]})\n",
    "        \n",
    "        total_rewards[s,action] += r\n",
    "        \n",
    "        \n",
    "        "
   ]
  },
  {
   "cell_type": "code",
   "execution_count": 115,
   "metadata": {},
   "outputs": [
    {
     "data": {
      "text/plain": [
       "array([[    0.,     7.,     2.,  1379.],\n",
       "       [    4.,  1569.,   -26.,   -13.],\n",
       "       [ 1557.,   -45.,   -53.,   -53.]])"
      ]
     },
     "execution_count": 115,
     "metadata": {},
     "output_type": "execute_result"
    }
   ],
   "source": [
    "total_rewards"
   ]
  }
 ],
 "metadata": {
  "kernelspec": {
   "display_name": "Python 2",
   "language": "python",
   "name": "python2"
  },
  "language_info": {
   "codemirror_mode": {
    "name": "ipython",
    "version": 2
   },
   "file_extension": ".py",
   "mimetype": "text/x-python",
   "name": "python",
   "nbconvert_exporter": "python",
   "pygments_lexer": "ipython2",
   "version": "2.7.10"
  }
 },
 "nbformat": 4,
 "nbformat_minor": 2
}
