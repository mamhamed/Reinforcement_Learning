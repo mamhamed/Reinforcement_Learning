{
 "cells": [
  {
   "cell_type": "code",
   "execution_count": 1,
   "metadata": {
    "collapsed": true
   },
   "outputs": [],
   "source": [
    "import numpy as np\n",
    "import tensorflow as tf"
   ]
  },
  {
   "cell_type": "markdown",
   "metadata": {},
   "source": [
    "### playing around"
   ]
  },
  {
   "cell_type": "code",
   "execution_count": 2,
   "metadata": {},
   "outputs": [
    {
     "data": {
      "text/plain": [
       "5"
      ]
     },
     "execution_count": 2,
     "metadata": {},
     "output_type": "execute_result"
    }
   ],
   "source": [
    "2+3"
   ]
  },
  {
   "cell_type": "code",
   "execution_count": 134,
   "metadata": {
    "collapsed": true
   },
   "outputs": [],
   "source": [
    "bandits = [0.2,0,-0.2,-5]\n",
    "num_bandits = len(bandits)\n",
    "\n",
    "\n",
    "def pullBandit(bandit_index):\n",
    "    if bandit_index >= num_bandits:\n",
    "        return -10.0\n",
    "    result = np.random.randn(1)\n",
    "    if result > bandits[bandit_index]:\n",
    "        return 1.0\n",
    "    else:\n",
    "        return -1.0"
   ]
  },
  {
   "cell_type": "code",
   "execution_count": 128,
   "metadata": {
    "collapsed": true
   },
   "outputs": [],
   "source": [
    "tf.reset_default_graph()\n",
    "W = tf.Variable(np.ones([num_bandits]), dtype=tf.float32, name='W')\n",
    "a = tf.argmax(W,0)"
   ]
  },
  {
   "cell_type": "code",
   "execution_count": 129,
   "metadata": {
    "collapsed": true
   },
   "outputs": [],
   "source": [
    "reward_holder = tf.placeholder(shape=[1], dtype=tf.float32, name='reward_holder')\n",
    "action_holder = tf.placeholder(shape=[1], dtype=tf.int32, name='action_holder')\n",
    "\n",
    "w = tf.slice(W, action_holder, [1])\n",
    "\n",
    "loss = -1.0 * tf.log(w)*reward_holder\n",
    "\n",
    "optimizer = tf.train.GradientDescentOptimizer(learning_rate=.01)\n",
    "update = optimizer.minimize(loss)"
   ]
  },
  {
   "cell_type": "code",
   "execution_count": 139,
   "metadata": {
    "scrolled": false
   },
   "outputs": [
    {
     "name": "stdout",
     "output_type": "stream",
     "text": [
      "[ 100.    0.    0.    0.]\n",
      "[ 99.   0.   0.   1.]\n",
      "[ 99.   0.  -1.   0.]\n",
      "[ 98.   0.   0.   0.]\n",
      "[ 100.    0.    0.    0.]\n",
      "[ 98.  -1.   0.   1.]\n",
      "[ 99.  -1.   0.   0.]\n",
      "[ 97.   0.   0.   1.]\n",
      "[ 99.  -1.   0.   0.]\n",
      "[ 99.  -1.   0.   0.]\n",
      "[ 99.   0.   0.   1.]\n",
      "[ 100.    0.    0.    0.]\n",
      "[ 100.    0.    0.    0.]\n",
      "[ 99.   0.   1.   0.]\n",
      "[ 99.   0.   0.   1.]\n",
      "[ 100.    0.    0.    0.]\n",
      "[ 99.   0.   0.   1.]\n",
      "[ 100.    0.    0.    0.]\n",
      "[ 99.   0.   1.   0.]\n",
      "[ 100.    0.    0.    0.]\n"
     ]
    }
   ],
   "source": [
    "num_episodes = 20\n",
    "e = 0.01\n",
    "with tf.Session() as sess:\n",
    "    sess.run(tf.global_variables_initializer())\n",
    "    for i in range(num_episodes):\n",
    "        j = 0\n",
    "        rAll = 0\n",
    "        s = 0\n",
    "        total_reward = np.zeros(num_bandits)\n",
    "        while j <= 99:\n",
    "            j += 1\n",
    "            if np.random.rand() < e:\n",
    "                s = np.random.randint(num_bandits)\n",
    "            r = pullBandit(s)\n",
    "            total_reward[s] += r\n",
    "\n",
    "            rAll += r\n",
    "            _, res, WW, action  = sess.run([update, w, W, a], {reward_holder:[rAll], action_holder:[action]})\n",
    "\n",
    "            s = action\n",
    "\n",
    "\n",
    "        print total_reward     "
   ]
  }
 ],
 "metadata": {
  "kernelspec": {
   "display_name": "Python 2",
   "language": "python",
   "name": "python2"
  },
  "language_info": {
   "codemirror_mode": {
    "name": "ipython",
    "version": 2
   },
   "file_extension": ".py",
   "mimetype": "text/x-python",
   "name": "python",
   "nbconvert_exporter": "python",
   "pygments_lexer": "ipython2",
   "version": "2.7.10"
  }
 },
 "nbformat": 4,
 "nbformat_minor": 2
}
